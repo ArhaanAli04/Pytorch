{
  "nbformat": 4,
  "nbformat_minor": 0,
  "metadata": {
    "colab": {
      "provenance": [],
      "gpuType": "T4",
      "authorship_tag": "ABX9TyNAUOV8zlr+595C/wqLrQMV",
      "include_colab_link": true
    },
    "kernelspec": {
      "name": "python3",
      "display_name": "Python 3"
    },
    "language_info": {
      "name": "python"
    }
  },
  "cells": [
    {
      "cell_type": "markdown",
      "metadata": {
        "id": "view-in-github",
        "colab_type": "text"
      },
      "source": [
        "<a href=\"https://colab.research.google.com/github/ArhaanAli04/Pytorch/blob/main/00_pytorch_fundamentals.ipynb\" target=\"_parent\"><img src=\"https://colab.research.google.com/assets/colab-badge.svg\" alt=\"Open In Colab\"/></a>"
      ]
    },
    {
      "cell_type": "code",
      "execution_count": null,
      "metadata": {
        "colab": {
          "base_uri": "https://localhost:8080/"
        },
        "id": "YwN2JGboPv7y",
        "outputId": "32605965-e5c9-494f-e09d-16a0c1d1ee06"
      },
      "outputs": [
        {
          "output_type": "stream",
          "name": "stdout",
          "text": [
            "2.5.1+cu121\n",
            "1\n"
          ]
        }
      ],
      "source": [
        "import torch\n",
        "print(torch.__version__)\n",
        "print(1)"
      ]
    },
    {
      "cell_type": "code",
      "source": [
        "print(\"arhaan\")\n",
        "import torch\n",
        "print(torch.__version__)"
      ],
      "metadata": {
        "colab": {
          "base_uri": "https://localhost:8080/"
        },
        "id": "POEz98AO0GdV",
        "outputId": "b2f39041-31d5-43ef-8eb9-cb563bf01598"
      },
      "execution_count": null,
      "outputs": [
        {
          "output_type": "stream",
          "name": "stdout",
          "text": [
            "arhaan\n",
            "2.5.1+cu121\n"
          ]
        }
      ]
    },
    {
      "cell_type": "code",
      "source": [
        "#intro to tensors\n",
        "#scalar\n",
        "scalar=torch.tensor(7)\n",
        "scalar\n"
      ],
      "metadata": {
        "colab": {
          "base_uri": "https://localhost:8080/"
        },
        "id": "zuAKB9AM2PYn",
        "outputId": "1278d42e-afd1-4b44-843a-1fe467e8b740"
      },
      "execution_count": null,
      "outputs": [
        {
          "output_type": "execute_result",
          "data": {
            "text/plain": [
              "tensor(7)"
            ]
          },
          "metadata": {},
          "execution_count": 4
        }
      ]
    },
    {
      "cell_type": "code",
      "source": [
        "scalar.ndim\n",
        "#dimension of scalar is 0, just a number"
      ],
      "metadata": {
        "colab": {
          "base_uri": "https://localhost:8080/"
        },
        "id": "UMTKyTW127fp",
        "outputId": "1df893d2-3f85-400e-f7dc-68cd132271f1"
      },
      "execution_count": null,
      "outputs": [
        {
          "output_type": "execute_result",
          "data": {
            "text/plain": [
              "0"
            ]
          },
          "metadata": {},
          "execution_count": 5
        }
      ]
    },
    {
      "cell_type": "code",
      "source": [
        "#get tensor back as python integer\n",
        "scalar.item()"
      ],
      "metadata": {
        "colab": {
          "base_uri": "https://localhost:8080/"
        },
        "id": "shj3rPlc4Ms6",
        "outputId": "10745330-e410-41ad-c43a-ccb396cebd33"
      },
      "execution_count": null,
      "outputs": [
        {
          "output_type": "execute_result",
          "data": {
            "text/plain": [
              "7"
            ]
          },
          "metadata": {},
          "execution_count": 6
        }
      ]
    },
    {
      "cell_type": "code",
      "source": [
        "#vector\n",
        "vector=torch.tensor([3,3])\n",
        "vector"
      ],
      "metadata": {
        "colab": {
          "base_uri": "https://localhost:8080/"
        },
        "id": "UAWtqBwx4aUL",
        "outputId": "ad3c5c51-7ca9-4814-f7e6-f4593c39e25e"
      },
      "execution_count": null,
      "outputs": [
        {
          "output_type": "execute_result",
          "data": {
            "text/plain": [
              "tensor([3, 3])"
            ]
          },
          "metadata": {},
          "execution_count": 7
        }
      ]
    },
    {
      "cell_type": "code",
      "source": [
        "vector.ndim\n"
      ],
      "metadata": {
        "colab": {
          "base_uri": "https://localhost:8080/"
        },
        "id": "O5QVD_pF5TQV",
        "outputId": "652605cb-9266-4531-fb05-7f91ac9db1cf"
      },
      "execution_count": null,
      "outputs": [
        {
          "output_type": "execute_result",
          "data": {
            "text/plain": [
              "1"
            ]
          },
          "metadata": {},
          "execution_count": 8
        }
      ]
    },
    {
      "cell_type": "code",
      "source": [
        "vector.shape"
      ],
      "metadata": {
        "colab": {
          "base_uri": "https://localhost:8080/"
        },
        "id": "dj7ckX3M5W6i",
        "outputId": "9701a9e1-e8cf-4a21-b8e1-31d1fcc6f062"
      },
      "execution_count": null,
      "outputs": [
        {
          "output_type": "execute_result",
          "data": {
            "text/plain": [
              "torch.Size([2])"
            ]
          },
          "metadata": {},
          "execution_count": 9
        }
      ]
    },
    {
      "cell_type": "code",
      "source": [
        "#matrix\n",
        "MATRIX=torch.tensor([ [1,2],\n",
        "                      [3,4]])\n",
        "MATRIX"
      ],
      "metadata": {
        "colab": {
          "base_uri": "https://localhost:8080/"
        },
        "id": "TRRWyXbe6in2",
        "outputId": "70dc675f-44bc-48ce-ee2d-7abf7df7e1f0"
      },
      "execution_count": null,
      "outputs": [
        {
          "output_type": "execute_result",
          "data": {
            "text/plain": [
              "tensor([[1, 2],\n",
              "        [3, 4]])"
            ]
          },
          "metadata": {},
          "execution_count": 10
        }
      ]
    },
    {
      "cell_type": "code",
      "source": [
        "MATRIX.ndim"
      ],
      "metadata": {
        "colab": {
          "base_uri": "https://localhost:8080/"
        },
        "id": "4zUgclwG7ImM",
        "outputId": "b305072e-cc7a-4120-d6ec-8c360abf1317"
      },
      "execution_count": null,
      "outputs": [
        {
          "output_type": "execute_result",
          "data": {
            "text/plain": [
              "2"
            ]
          },
          "metadata": {},
          "execution_count": 11
        }
      ]
    },
    {
      "cell_type": "code",
      "source": [
        "MATRIX.shape"
      ],
      "metadata": {
        "colab": {
          "base_uri": "https://localhost:8080/"
        },
        "id": "S-srCbbG7Sn7",
        "outputId": "850c03d1-7bfd-4329-a03e-14ecf5eaebf8"
      },
      "execution_count": null,
      "outputs": [
        {
          "output_type": "execute_result",
          "data": {
            "text/plain": [
              "torch.Size([2, 2])"
            ]
          },
          "metadata": {},
          "execution_count": 12
        }
      ]
    },
    {
      "cell_type": "code",
      "source": [
        "\n",
        "print(MATRIX[0])# 1st dimension\n",
        "print(MATRIX[1])# 2nd dimension"
      ],
      "metadata": {
        "colab": {
          "base_uri": "https://localhost:8080/"
        },
        "id": "UFoku3iI6zpl",
        "outputId": "6b34b970-3981-40a1-b870-c4d031d3a6fd"
      },
      "execution_count": null,
      "outputs": [
        {
          "output_type": "stream",
          "name": "stdout",
          "text": [
            "tensor([1, 2])\n",
            "tensor([3, 4])\n"
          ]
        }
      ]
    },
    {
      "cell_type": "code",
      "source": [
        "#tensors\n",
        "TENSOR=torch.tensor([[[1,2,3],\n",
        "                     [4,5,6],\n",
        "                     [7,8,9]]])\n",
        "TENSOR[0]"
      ],
      "metadata": {
        "colab": {
          "base_uri": "https://localhost:8080/"
        },
        "id": "wvcALYsN72VC",
        "outputId": "92dab60a-ba21-4e09-82d0-491d7ded95a6"
      },
      "execution_count": null,
      "outputs": [
        {
          "output_type": "execute_result",
          "data": {
            "text/plain": [
              "tensor([[1, 2, 3],\n",
              "        [4, 5, 6],\n",
              "        [7, 8, 9]])"
            ]
          },
          "metadata": {},
          "execution_count": 14
        }
      ]
    },
    {
      "cell_type": "code",
      "source": [
        "TENSOR.ndim"
      ],
      "metadata": {
        "colab": {
          "base_uri": "https://localhost:8080/"
        },
        "id": "Y7jADcT88Ffi",
        "outputId": "4ae5e91d-3450-41ac-cab4-61993689ca0c"
      },
      "execution_count": null,
      "outputs": [
        {
          "output_type": "execute_result",
          "data": {
            "text/plain": [
              "3"
            ]
          },
          "metadata": {},
          "execution_count": 15
        }
      ]
    },
    {
      "cell_type": "code",
      "source": [
        "scalar1=torch.tensor(20)\n",
        "scalar1"
      ],
      "metadata": {
        "colab": {
          "base_uri": "https://localhost:8080/"
        },
        "id": "Lls007uHp8m6",
        "outputId": "24ca5f7f-67e2-4ea1-a232-628ff8c4e7ce"
      },
      "execution_count": null,
      "outputs": [
        {
          "output_type": "execute_result",
          "data": {
            "text/plain": [
              "tensor(20)"
            ]
          },
          "metadata": {},
          "execution_count": 16
        }
      ]
    },
    {
      "cell_type": "markdown",
      "source": [
        "###Random Tensors\n"
      ],
      "metadata": {
        "id": "58HSQEZFsq52"
      }
    },
    {
      "cell_type": "code",
      "source": [
        "#create a random tensor:\n",
        "import torch\n",
        "random_tensor=torch.rand(4,4)\n",
        "random_tensor"
      ],
      "metadata": {
        "colab": {
          "base_uri": "https://localhost:8080/"
        },
        "id": "Wtlfo_obstr0",
        "outputId": "47cf9ac1-76f8-4f43-a09f-0b65990ccb3f"
      },
      "execution_count": null,
      "outputs": [
        {
          "output_type": "execute_result",
          "data": {
            "text/plain": [
              "tensor([[0.0253, 0.2150, 0.7354, 0.5163],\n",
              "        [0.9605, 0.5979, 0.0950, 0.8174],\n",
              "        [0.0148, 0.6786, 0.3981, 0.0895],\n",
              "        [0.2887, 0.1045, 0.3069, 0.0922]])"
            ]
          },
          "metadata": {},
          "execution_count": 17
        }
      ]
    },
    {
      "cell_type": "code",
      "source": [
        "random_tensor.ndim"
      ],
      "metadata": {
        "colab": {
          "base_uri": "https://localhost:8080/"
        },
        "id": "Sc3cjyC61vIz",
        "outputId": "5592011f-11e5-4a5b-ef98-6a154ca6c6f6"
      },
      "execution_count": null,
      "outputs": [
        {
          "output_type": "execute_result",
          "data": {
            "text/plain": [
              "2"
            ]
          },
          "metadata": {},
          "execution_count": 18
        }
      ]
    },
    {
      "cell_type": "code",
      "source": [
        "#create a random tensor with similar shape to an image tensor:\n",
        "random_image_size_tensor=torch.rand(size=(224,224,3))\n",
        "random_image_size_tensor.shape,random_image_size_tensor.ndim"
      ],
      "metadata": {
        "colab": {
          "base_uri": "https://localhost:8080/"
        },
        "id": "l4wEPeeh2-MW",
        "outputId": "10c8f6ce-fade-4438-d2f2-cac9342dff7c"
      },
      "execution_count": null,
      "outputs": [
        {
          "output_type": "execute_result",
          "data": {
            "text/plain": [
              "(torch.Size([224, 224, 3]), 3)"
            ]
          },
          "metadata": {},
          "execution_count": 19
        }
      ]
    },
    {
      "cell_type": "markdown",
      "source": [
        "Zeros and Ones\n"
      ],
      "metadata": {
        "id": "6fYNtCkX3ReJ"
      }
    },
    {
      "cell_type": "code",
      "source": [
        "#create a tensor of all zeros:\n",
        "zeros=torch.zeros(size=(4,4))\n",
        "zeros"
      ],
      "metadata": {
        "colab": {
          "base_uri": "https://localhost:8080/"
        },
        "id": "NrZMS5Xd3QUk",
        "outputId": "1ad338c5-501e-4785-f74d-a71cbfd13854"
      },
      "execution_count": null,
      "outputs": [
        {
          "output_type": "execute_result",
          "data": {
            "text/plain": [
              "tensor([[0., 0., 0., 0.],\n",
              "        [0., 0., 0., 0.],\n",
              "        [0., 0., 0., 0.],\n",
              "        [0., 0., 0., 0.]])"
            ]
          },
          "metadata": {},
          "execution_count": 20
        }
      ]
    },
    {
      "cell_type": "code",
      "source": [
        "#create a tensor of all ones:\n",
        "ones=torch.ones(size=(3,3))\n",
        "ones"
      ],
      "metadata": {
        "colab": {
          "base_uri": "https://localhost:8080/"
        },
        "id": "jgnFkCVk5A6Z",
        "outputId": "9debc0fd-7f20-4e6f-d238-015e59db3d9f"
      },
      "execution_count": null,
      "outputs": [
        {
          "output_type": "execute_result",
          "data": {
            "text/plain": [
              "tensor([[1., 1., 1.],\n",
              "        [1., 1., 1.],\n",
              "        [1., 1., 1.]])"
            ]
          },
          "metadata": {},
          "execution_count": 21
        }
      ]
    },
    {
      "cell_type": "markdown",
      "source": [
        "Creating a range of tensors and tensors-like"
      ],
      "metadata": {
        "id": "m6dsjfTD7hbr"
      }
    },
    {
      "cell_type": "code",
      "source": [
        "#use torch.arange():\n",
        "one_to_ten=torch.arange(start=10,end=100,step=6)\n",
        "one_to_ten"
      ],
      "metadata": {
        "colab": {
          "base_uri": "https://localhost:8080/"
        },
        "id": "_4zcBsef7mou",
        "outputId": "c8f62188-2191-4aa0-d57f-a1154a9a629d"
      },
      "execution_count": null,
      "outputs": [
        {
          "output_type": "execute_result",
          "data": {
            "text/plain": [
              "tensor([10, 16, 22, 28, 34, 40, 46, 52, 58, 64, 70, 76, 82, 88, 94])"
            ]
          },
          "metadata": {},
          "execution_count": 22
        }
      ]
    },
    {
      "cell_type": "code",
      "source": [
        "#creating tensors like:\n",
        "torch.zeros_like(input=one_to_ten)"
      ],
      "metadata": {
        "colab": {
          "base_uri": "https://localhost:8080/"
        },
        "id": "hrj-gDmEC0AB",
        "outputId": "d217f292-7f06-4d37-ba35-697450edefd9"
      },
      "execution_count": null,
      "outputs": [
        {
          "output_type": "execute_result",
          "data": {
            "text/plain": [
              "tensor([0, 0, 0, 0, 0, 0, 0, 0, 0, 0, 0, 0, 0, 0, 0])"
            ]
          },
          "metadata": {},
          "execution_count": 23
        }
      ]
    },
    {
      "cell_type": "markdown",
      "source": [
        "###Getting information from tensors"
      ],
      "metadata": {
        "id": "vbeP93RxEIRJ"
      }
    },
    {
      "cell_type": "code",
      "source": [
        "import torch\n",
        "tensor1=torch.rand(3,4,dtype=torch.float16)\n",
        "tensor1"
      ],
      "metadata": {
        "colab": {
          "base_uri": "https://localhost:8080/"
        },
        "id": "1586EiasEK-Q",
        "outputId": "5b3a69a6-61a7-46cf-eb19-1c0946baa902"
      },
      "execution_count": null,
      "outputs": [
        {
          "output_type": "execute_result",
          "data": {
            "text/plain": [
              "tensor([[0.1616, 0.3701, 0.4136, 0.3716],\n",
              "        [0.0518, 0.7158, 0.8755, 0.4194],\n",
              "        [0.1611, 0.6870, 0.6440, 0.8428]], dtype=torch.float16)"
            ]
          },
          "metadata": {},
          "execution_count": 24
        }
      ]
    },
    {
      "cell_type": "code",
      "source": [
        "print(f\"Datatype of tensor: {tensor1.dtype}\")\n",
        "print(f\"Shape of tensor: {tensor1.shape}\")\n",
        "print(f\"Device tensor is on: {tensor1.device}\")"
      ],
      "metadata": {
        "colab": {
          "base_uri": "https://localhost:8080/"
        },
        "id": "hY2qXgINEd5L",
        "outputId": "76912a90-a0eb-48bd-ecac-e8f9005d1a5e"
      },
      "execution_count": null,
      "outputs": [
        {
          "output_type": "stream",
          "name": "stdout",
          "text": [
            "Datatype of tensor: torch.float16\n",
            "Shape of tensor: torch.Size([3, 4])\n",
            "Device tensor is on: cpu\n"
          ]
        }
      ]
    },
    {
      "cell_type": "markdown",
      "source": [
        "###Manipulating tensors(tensor operations):\n",
        "* addition\n",
        "* subtraction\n",
        "* multiplication(element-wise)\n",
        "* division\n",
        "* matrix multiplication"
      ],
      "metadata": {
        "id": "wJs8KfjMJXtQ"
      }
    },
    {
      "cell_type": "code",
      "source": [
        "tensor=torch.tensor([2,3,4])\n",
        "tensor+20"
      ],
      "metadata": {
        "colab": {
          "base_uri": "https://localhost:8080/"
        },
        "id": "yVpU74WzJoK-",
        "outputId": "4305aaf7-d40f-4b38-b591-ae8ba79b27a2"
      },
      "execution_count": null,
      "outputs": [
        {
          "output_type": "execute_result",
          "data": {
            "text/plain": [
              "tensor([22, 23, 24])"
            ]
          },
          "metadata": {},
          "execution_count": 26
        }
      ]
    },
    {
      "cell_type": "code",
      "source": [
        "tensor-10"
      ],
      "metadata": {
        "colab": {
          "base_uri": "https://localhost:8080/"
        },
        "id": "1TIUpmGeKZyJ",
        "outputId": "2d26e816-7eb8-4ff8-8a81-4dae9f38cfa1"
      },
      "execution_count": null,
      "outputs": [
        {
          "output_type": "execute_result",
          "data": {
            "text/plain": [
              "tensor([-8, -7, -6])"
            ]
          },
          "metadata": {},
          "execution_count": 27
        }
      ]
    },
    {
      "cell_type": "code",
      "source": [
        "tensor*10"
      ],
      "metadata": {
        "colab": {
          "base_uri": "https://localhost:8080/"
        },
        "id": "_4PlaQPRKetn",
        "outputId": "6fe09c13-6e5c-4d7f-ba56-a5b9759a64e9"
      },
      "execution_count": null,
      "outputs": [
        {
          "output_type": "execute_result",
          "data": {
            "text/plain": [
              "tensor([20, 30, 40])"
            ]
          },
          "metadata": {},
          "execution_count": 28
        }
      ]
    },
    {
      "cell_type": "code",
      "source": [
        "#use pytorch inbuilt modules\n",
        "\n",
        "print(torch.mul(tensor,10))\n",
        "print(torch.add(tensor,20))\n",
        "print(10)"
      ],
      "metadata": {
        "colab": {
          "base_uri": "https://localhost:8080/"
        },
        "id": "z1M-V8boKiBr",
        "outputId": "373d0d6c-1cf5-410e-ab12-1726df0c27a7"
      },
      "execution_count": null,
      "outputs": [
        {
          "output_type": "stream",
          "name": "stdout",
          "text": [
            "tensor([20, 30, 40])\n",
            "tensor([22, 23, 24])\n",
            "10\n"
          ]
        }
      ]
    },
    {
      "cell_type": "code",
      "source": [
        "#element wise multiplication:\n",
        "print(tensor)\n",
        "print(tensor*tensor)\n",
        "#matrix multiplication:\n",
        "print(torch.matmul(tensor,tensor))"
      ],
      "metadata": {
        "colab": {
          "base_uri": "https://localhost:8080/"
        },
        "id": "iF1t9R5FQ-Tb",
        "outputId": "04470a30-ae24-40be-d464-7bff10e9ea11"
      },
      "execution_count": null,
      "outputs": [
        {
          "output_type": "stream",
          "name": "stdout",
          "text": [
            "tensor([2, 3, 4])\n",
            "tensor([ 4,  9, 16])\n",
            "tensor(29)\n"
          ]
        }
      ]
    },
    {
      "cell_type": "code",
      "source": [
        "tensorA=torch.rand(3,2)\n",
        "tensorB=torch.rand(2,3)\n",
        "print(tensorA)\n",
        "print(tensorB)\n",
        "print(torch.matmul(tensorA,tensorB))\n",
        "print(tensorA.T)"
      ],
      "metadata": {
        "colab": {
          "base_uri": "https://localhost:8080/"
        },
        "id": "tZ8IoDyncIik",
        "outputId": "81575983-c33d-4a40-be3d-f71a82fa0d09"
      },
      "execution_count": null,
      "outputs": [
        {
          "output_type": "stream",
          "name": "stdout",
          "text": [
            "tensor([[0.8201, 0.7973],\n",
            "        [0.1552, 0.6626],\n",
            "        [0.3609, 0.5074]])\n",
            "tensor([[0.7840, 0.6838, 0.4390],\n",
            "        [0.5197, 0.7420, 0.0015]])\n",
            "tensor([[1.0573, 1.1523, 0.3613],\n",
            "        [0.4660, 0.5977, 0.0691],\n",
            "        [0.5466, 0.6232, 0.1592]])\n",
            "tensor([[0.8201, 0.1552, 0.3609],\n",
            "        [0.7973, 0.6626, 0.5074]])\n"
          ]
        }
      ]
    },
    {
      "cell_type": "code",
      "source": [
        "torch.matmul(tensorA,tensorA.T)"
      ],
      "metadata": {
        "colab": {
          "base_uri": "https://localhost:8080/"
        },
        "id": "TrLPZx9Cd0R6",
        "outputId": "ee932063-b2e3-4cf2-e80d-9f3bd4ab67ce"
      },
      "execution_count": null,
      "outputs": [
        {
          "output_type": "execute_result",
          "data": {
            "text/plain": [
              "tensor([[1.3083, 0.6556, 0.7005],\n",
              "        [0.6556, 0.4631, 0.3922],\n",
              "        [0.7005, 0.3922, 0.3877]])"
            ]
          },
          "metadata": {},
          "execution_count": 32
        }
      ]
    },
    {
      "cell_type": "markdown",
      "source": [
        "###Tensor Aggregation(min,max,mean,sum)"
      ],
      "metadata": {
        "id": "VsnkwR7pg834"
      }
    },
    {
      "cell_type": "code",
      "source": [
        "\n",
        "x=torch.arange(0,20,2)\n",
        "print(x)\n",
        "\n",
        "print(f\"Min: {torch.min(x)}\") #min\n",
        "print(f\"Max: {torch.max(x)}\") #max\n",
        "print(f\"Mean: {torch.mean(x.type(torch.float32))}\") #mean\n",
        "print(f\"Sum: {torch.sum(x)}\")  #sum"
      ],
      "metadata": {
        "colab": {
          "base_uri": "https://localhost:8080/"
        },
        "id": "HfqpIJY5hBLC",
        "outputId": "54af5b0a-908e-4473-bd0d-15079fbe7251"
      },
      "execution_count": null,
      "outputs": [
        {
          "output_type": "stream",
          "name": "stdout",
          "text": [
            "tensor([ 0,  2,  4,  6,  8, 10, 12, 14, 16, 18])\n",
            "Min: 0\n",
            "Max: 18\n",
            "Mean: 9.0\n",
            "Sum: 90\n"
          ]
        }
      ]
    },
    {
      "cell_type": "markdown",
      "source": [
        "###Positional Min and Max"
      ],
      "metadata": {
        "id": "zG3SUKXamQ9H"
      }
    },
    {
      "cell_type": "code",
      "source": [
        "print(x.argmin())\n",
        "print(x.argmax())\n",
        "print(5)"
      ],
      "metadata": {
        "id": "8XzuSI7WmTP9",
        "outputId": "7054f19d-3a43-4b73-94e4-3bf99620e85f",
        "colab": {
          "base_uri": "https://localhost:8080/"
        }
      },
      "execution_count": null,
      "outputs": [
        {
          "output_type": "stream",
          "name": "stdout",
          "text": [
            "tensor(0)\n",
            "tensor(9)\n",
            "5\n"
          ]
        }
      ]
    },
    {
      "cell_type": "markdown",
      "source": [
        "###Reshaping,Viewing,Stacking,Squeezing a tensor"
      ],
      "metadata": {
        "id": "tB2QxDJJ3Ldo"
      }
    },
    {
      "cell_type": "code",
      "source": [
        "import torch\n",
        "x=torch.arange(1,11)\n",
        "x,x.shape"
      ],
      "metadata": {
        "colab": {
          "base_uri": "https://localhost:8080/"
        },
        "id": "55SyhtPv3CKQ",
        "outputId": "3a8369e8-f33c-460a-cb98-ac615e3f3714"
      },
      "execution_count": null,
      "outputs": [
        {
          "output_type": "execute_result",
          "data": {
            "text/plain": [
              "(tensor([ 1,  2,  3,  4,  5,  6,  7,  8,  9, 10]), torch.Size([10]))"
            ]
          },
          "metadata": {},
          "execution_count": 41
        }
      ]
    },
    {
      "cell_type": "code",
      "source": [
        "#adding a dimension\n",
        "x_reshaped=x.reshape(1,10)\n",
        "x_reshaped,x_reshaped.shape,x_reshaped.ndim"
      ],
      "metadata": {
        "colab": {
          "base_uri": "https://localhost:8080/"
        },
        "id": "WS1rj_3Q3KBT",
        "outputId": "244236b5-ce17-4c00-d4fc-defc397b2bf6"
      },
      "execution_count": null,
      "outputs": [
        {
          "output_type": "execute_result",
          "data": {
            "text/plain": [
              "(tensor([[50,  2,  3,  4,  5,  6,  7,  8,  9, 10]]), torch.Size([1, 10]), 2)"
            ]
          },
          "metadata": {},
          "execution_count": 54
        }
      ]
    },
    {
      "cell_type": "code",
      "source": [
        "#changing the view of a tensor\n",
        "z=x.view(1,10)\n",
        "z,z.shape\n"
      ],
      "metadata": {
        "colab": {
          "base_uri": "https://localhost:8080/"
        },
        "id": "Y0D1vM0y5gnS",
        "outputId": "d600cd3b-9faa-42e1-f0f7-32f5d8dd8796"
      },
      "execution_count": null,
      "outputs": [
        {
          "output_type": "execute_result",
          "data": {
            "text/plain": [
              "(tensor([[50,  2,  3,  4,  5,  6,  7,  8,  9, 10]]), torch.Size([1, 10]))"
            ]
          },
          "metadata": {},
          "execution_count": 55
        }
      ]
    },
    {
      "cell_type": "code",
      "source": [
        "#changing z will change x:\n",
        "z[:,0]=50\n",
        "z,x"
      ],
      "metadata": {
        "colab": {
          "base_uri": "https://localhost:8080/"
        },
        "id": "ALLdwoiH5-F2",
        "outputId": "26c19218-1d0f-452c-c5e8-38931822e8ca"
      },
      "execution_count": null,
      "outputs": [
        {
          "output_type": "execute_result",
          "data": {
            "text/plain": [
              "(tensor([[50,  2,  3,  4,  5,  6,  7,  8,  9, 10]]),\n",
              " tensor([50,  2,  3,  4,  5,  6,  7,  8,  9, 10]))"
            ]
          },
          "metadata": {},
          "execution_count": 56
        }
      ]
    },
    {
      "cell_type": "code",
      "source": [
        "#stack tensor :\n",
        "x_stacked=torch.stack([x,x,x], dim=0)\n",
        "x_stacked"
      ],
      "metadata": {
        "colab": {
          "base_uri": "https://localhost:8080/"
        },
        "id": "041e0j_29IA4",
        "outputId": "30717789-4363-401a-a86a-f289da018e0a"
      },
      "execution_count": null,
      "outputs": [
        {
          "output_type": "execute_result",
          "data": {
            "text/plain": [
              "tensor([[50,  2,  3,  4,  5,  6,  7,  8,  9, 10],\n",
              "        [50,  2,  3,  4,  5,  6,  7,  8,  9, 10],\n",
              "        [50,  2,  3,  4,  5,  6,  7,  8,  9, 10]])"
            ]
          },
          "metadata": {},
          "execution_count": 57
        }
      ]
    },
    {
      "cell_type": "code",
      "source": [
        "#squeezing a tensor\n",
        "x_reshaped,x_reshaped.shape"
      ],
      "metadata": {
        "colab": {
          "base_uri": "https://localhost:8080/"
        },
        "id": "PxpI5Cxi-IkH",
        "outputId": "ce1ed52a-fc2d-408c-bfc6-490051b089ca"
      },
      "execution_count": null,
      "outputs": [
        {
          "output_type": "execute_result",
          "data": {
            "text/plain": [
              "(tensor([[50,  2,  3,  4,  5,  6,  7,  8,  9, 10]]), torch.Size([1, 10]))"
            ]
          },
          "metadata": {},
          "execution_count": 61
        }
      ]
    },
    {
      "cell_type": "code",
      "source": [
        "print(f\"Previous tensor: {x_reshaped}\")\n",
        "print(f\"Previous tensor shape: {x_reshaped.shape}\")\n",
        "x_squeezed=x_reshaped.squeeze()\n",
        "print(f\"New tensor: {x_squeezed}\")\n",
        "print(f\"New tensor shape: {x_squeezed.shape}\")"
      ],
      "metadata": {
        "colab": {
          "base_uri": "https://localhost:8080/"
        },
        "id": "JzU-jui5-PNo",
        "outputId": "86cd6e3b-fe67-4dc7-b327-a206927abff3"
      },
      "execution_count": null,
      "outputs": [
        {
          "output_type": "stream",
          "name": "stdout",
          "text": [
            "Previous tensor: tensor([[50,  2,  3,  4,  5,  6,  7,  8,  9, 10]])\n",
            "Previous tensor shape: torch.Size([1, 10])\n",
            "New tensor: tensor([50,  2,  3,  4,  5,  6,  7,  8,  9, 10])\n",
            "New tensor shape: torch.Size([10])\n"
          ]
        }
      ]
    },
    {
      "cell_type": "code",
      "source": [
        "#unsqueezing a tensor:\n",
        "print(f\"Previous tensor:{x_squeezed}\")\n",
        "print(f\"Previous tensor shape: {x_squeezed.shape}\")\n",
        "x_unsqueezed=x_squeezed.unsqueeze(dim=0)\n",
        "print(f\"New tensor: {x_unsqueezed}\")\n",
        "print(f\"New tensor shape:{x_unsqueezed.shape}\")"
      ],
      "metadata": {
        "colab": {
          "base_uri": "https://localhost:8080/"
        },
        "id": "joT61sQPANT2",
        "outputId": "a661b96d-0fee-4736-ca89-f88b9136ef76"
      },
      "execution_count": null,
      "outputs": [
        {
          "output_type": "stream",
          "name": "stdout",
          "text": [
            "Previous tensor:tensor([50,  2,  3,  4,  5,  6,  7,  8,  9, 10])\n",
            "Previous tensor shape: torch.Size([10])\n",
            "New tensor: tensor([[50,  2,  3,  4,  5,  6,  7,  8,  9, 10]])\n",
            "New tensor shape:torch.Size([1, 10])\n"
          ]
        }
      ]
    },
    {
      "cell_type": "code",
      "source": [
        "#permute:\n",
        "x1=torch.rand(size=(224,224,3)) # height,width,color\n",
        "x_permuted=x1.permute(2,0,1)\n",
        "print(f\"Previous shape: {x1.shape}\")\n",
        "print(f\"New shape: {x_permuted.shape}\")"
      ],
      "metadata": {
        "colab": {
          "base_uri": "https://localhost:8080/"
        },
        "id": "ZUTZVPNsFxqV",
        "outputId": "308cab96-8191-4b81-b822-d7e77bf1db28"
      },
      "execution_count": null,
      "outputs": [
        {
          "output_type": "stream",
          "name": "stdout",
          "text": [
            "Previous shape: torch.Size([224, 224, 3])\n",
            "New shape: torch.Size([3, 224, 224])\n"
          ]
        }
      ]
    },
    {
      "cell_type": "markdown",
      "source": [
        "###Indexing (selecting fata from tensors)"
      ],
      "metadata": {
        "id": "NLAwASZ1w2Vw"
      }
    },
    {
      "cell_type": "code",
      "source": [
        "import torch\n",
        "x=torch.arange(1,10).reshape(1,3,3)\n",
        "x,x.shape"
      ],
      "metadata": {
        "colab": {
          "base_uri": "https://localhost:8080/"
        },
        "id": "H6CYOArbxHbt",
        "outputId": "9e3bc23a-0a71-4624-af97-349a7f73f4e0"
      },
      "execution_count": null,
      "outputs": [
        {
          "output_type": "execute_result",
          "data": {
            "text/plain": [
              "(tensor([[[1, 2, 3],\n",
              "          [4, 5, 6],\n",
              "          [7, 8, 9]]]),\n",
              " torch.Size([1, 3, 3]))"
            ]
          },
          "metadata": {},
          "execution_count": 68
        }
      ]
    },
    {
      "cell_type": "code",
      "source": [
        "x[0]"
      ],
      "metadata": {
        "colab": {
          "base_uri": "https://localhost:8080/"
        },
        "id": "HLWa_Dj9xVcg",
        "outputId": "66149229-43e1-4a43-ecd5-62c813c873f0"
      },
      "execution_count": null,
      "outputs": [
        {
          "output_type": "execute_result",
          "data": {
            "text/plain": [
              "tensor([[1, 2, 3],\n",
              "        [4, 5, 6],\n",
              "        [7, 8, 9]])"
            ]
          },
          "metadata": {},
          "execution_count": 69
        }
      ]
    },
    {
      "cell_type": "code",
      "source": [
        "print(f\"x[0]:{x[0]}\")\n",
        "print(f\"x[0][0]: {x[0][0]}   x[0][1]:{x[0][1]}   x[0][2]:{x[0][2]}\")\n",
        "x[0][2][1]"
      ],
      "metadata": {
        "colab": {
          "base_uri": "https://localhost:8080/"
        },
        "id": "aH7PJs1kxfpU",
        "outputId": "e27322e0-027b-42b5-f857-80c283052163"
      },
      "execution_count": null,
      "outputs": [
        {
          "output_type": "stream",
          "name": "stdout",
          "text": [
            "x[0]:tensor([[1, 2, 3],\n",
            "        [4, 5, 6],\n",
            "        [7, 8, 9]])\n",
            "x[0][0]: tensor([1, 2, 3])   x[0][1]:tensor([4, 5, 6])   x[0][2]:tensor([7, 8, 9])\n"
          ]
        },
        {
          "output_type": "execute_result",
          "data": {
            "text/plain": [
              "tensor(8)"
            ]
          },
          "metadata": {},
          "execution_count": 84
        }
      ]
    },
    {
      "cell_type": "code",
      "source": [
        "#use : to select all of a target dimension\n",
        "print(f\"x[:,0]={x[:,0]}   x[:,1]={x[:,1]}   x[:,2]={x[:,2]}\")  #rows\n",
        "print(f\"x[:,:,0]={x[:,:,0]}   x[:,:,1]={x[:,:,1]}    x[:,:,2]={x[:,:,2]}\")  #columns\n"
      ],
      "metadata": {
        "colab": {
          "base_uri": "https://localhost:8080/"
        },
        "id": "s1-ZYjRj0ELD",
        "outputId": "20da5529-00eb-4bed-f888-9136dede3561"
      },
      "execution_count": null,
      "outputs": [
        {
          "output_type": "stream",
          "name": "stdout",
          "text": [
            "x[:,0]=tensor([[1, 2, 3]])   x[:,1]=tensor([[4, 5, 6]])   x[:,2]=tensor([[7, 8, 9]])\n",
            "x[:,:,0]=tensor([[1, 4, 7]])   x[:,:,1]=tensor([[2, 5, 8]])    x[:,:,2]=tensor([[3, 6, 9]])\n",
            "tensor([1])\n"
          ]
        }
      ]
    },
    {
      "cell_type": "code",
      "source": [
        "x[:,2,:], x[:,2]"
      ],
      "metadata": {
        "colab": {
          "base_uri": "https://localhost:8080/"
        },
        "id": "fU4ML4LR0_D5",
        "outputId": "2958f2f9-edfb-47a6-d2bd-0bf30441ee33"
      },
      "execution_count": null,
      "outputs": [
        {
          "output_type": "execute_result",
          "data": {
            "text/plain": [
              "(tensor([[7, 8, 9]]), tensor([[7, 8, 9]]))"
            ]
          },
          "metadata": {},
          "execution_count": 107
        }
      ]
    },
    {
      "cell_type": "markdown",
      "source": [
        "##Reproducibility"
      ],
      "metadata": {
        "id": "iWaL48bfDWFk"
      }
    },
    {
      "cell_type": "code",
      "source": [
        "import torch\n",
        "  #create 2 random tensors\n",
        "random_tensorA=torch.rand(3,4)\n",
        "random_tensorB=torch.rand(3,4)\n",
        "print(random_tensorA)\n",
        "print(random_tensorB)\n",
        "print(random_tensorA==random_tensorB)"
      ],
      "metadata": {
        "colab": {
          "base_uri": "https://localhost:8080/"
        },
        "id": "TUt6zRMtDZyD",
        "outputId": "335fdc4e-5f4a-4fb0-907d-7f36685a87d5"
      },
      "execution_count": null,
      "outputs": [
        {
          "output_type": "stream",
          "name": "stdout",
          "text": [
            "tensor([[0.5711, 0.7145, 0.6527, 0.6038],\n",
            "        [0.2189, 0.4920, 0.3929, 0.8372],\n",
            "        [0.0181, 0.3447, 0.3640, 0.3066]])\n",
            "tensor([[0.1344, 0.3948, 0.7411, 0.7791],\n",
            "        [0.1363, 0.0076, 0.5684, 0.0019],\n",
            "        [0.7075, 0.2676, 0.0427, 0.8220]])\n",
            "tensor([[False, False, False, False],\n",
            "        [False, False, False, False],\n",
            "        [False, False, False, False]])\n"
          ]
        }
      ]
    },
    {
      "cell_type": "code",
      "source": [
        "#making random reproducible tensors\n",
        "#set random seed\n",
        "random_seed=50\n",
        "torch.manual_seed(random_seed)\n",
        "random_tensorC=torch.rand(3,4)\n",
        "torch.manual_seed(random_seed)\n",
        "random_tensorD=torch.rand(3,4)\n",
        "print(random_tensorC)\n",
        "print(random_tensorD)\n",
        "print(random_tensorC==random_tensorD)"
      ],
      "metadata": {
        "colab": {
          "base_uri": "https://localhost:8080/"
        },
        "id": "Hl_b4gslD3gr",
        "outputId": "b5aa450f-e2d2-483d-ae5d-a10d3ca614dc"
      },
      "execution_count": null,
      "outputs": [
        {
          "output_type": "stream",
          "name": "stdout",
          "text": [
            "tensor([[0.6180, 0.0687, 0.3893, 0.0404],\n",
            "        [0.4013, 0.1442, 0.4605, 0.4877],\n",
            "        [0.5927, 0.9634, 0.1230, 0.4048]])\n",
            "tensor([[0.6180, 0.0687, 0.3893, 0.0404],\n",
            "        [0.4013, 0.1442, 0.4605, 0.4877],\n",
            "        [0.5927, 0.9634, 0.1230, 0.4048]])\n",
            "tensor([[True, True, True, True],\n",
            "        [True, True, True, True],\n",
            "        [True, True, True, True]])\n"
          ]
        }
      ]
    },
    {
      "cell_type": "code",
      "source": [
        "print(1)"
      ],
      "metadata": {
        "id": "cmY_wV0v56gv",
        "outputId": "9d256b06-34b9-4975-c80c-015aa98b7069",
        "colab": {
          "base_uri": "https://localhost:8080/"
        }
      },
      "execution_count": 1,
      "outputs": [
        {
          "output_type": "stream",
          "name": "stdout",
          "text": [
            "1\n"
          ]
        }
      ]
    }
  ]
}